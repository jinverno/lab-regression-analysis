{
 "cells": [
  {
   "cell_type": "markdown",
   "metadata": {},
   "source": [
    "# Lab: Regression Analysis"
   ]
  },
  {
   "cell_type": "markdown",
   "metadata": {},
   "source": [
    "### Before you start:\n",
    "\n",
    "* Read the README.md file\n",
    "* Comment as much as you can and use the resources (README.md file) \n",
    "\n",
    "Happy learning!"
   ]
  },
  {
   "cell_type": "markdown",
   "metadata": {},
   "source": [
    "## Challenge 1\n",
    "I work at a coding bootcamp, and I have developed a theory that the younger my students are, the more often they are late to class. In order to test my hypothesis, I have collected some data in the following table:\n",
    "\n",
    "| StudentID | Age | Tardies |\n",
    "|--------|-----|------------|\n",
    "| 1      | 17  | 10         |\n",
    "| 2      | 51  | 1          |\n",
    "| 3      | 27  | 5          |\n",
    "| 4      | 21  | 9         |\n",
    "| 5      | 36  |  4         |\n",
    "| 6      | 48  |  2         |\n",
    "| 7      | 19  |  9         |\n",
    "| 8      | 26  | 6          |\n",
    "| 9      | 54  |  0         |\n",
    "| 10     | 30  |  3         |"
   ]
  },
  {
   "cell_type": "markdown",
   "metadata": {},
   "source": [
    "Use this command to create a dataframe with the data provided in the table. \n",
    "~~~~\n",
    "student_data = pd.DataFrame({'X': [x_values], 'Y': [y_values]})\n",
    "~~~~"
   ]
  },
  {
   "cell_type": "code",
   "execution_count": 1,
   "metadata": {},
   "outputs": [
    {
     "data": {
      "text/html": [
       "<div>\n",
       "<style scoped>\n",
       "    .dataframe tbody tr th:only-of-type {\n",
       "        vertical-align: middle;\n",
       "    }\n",
       "\n",
       "    .dataframe tbody tr th {\n",
       "        vertical-align: top;\n",
       "    }\n",
       "\n",
       "    .dataframe thead th {\n",
       "        text-align: right;\n",
       "    }\n",
       "</style>\n",
       "<table border=\"1\" class=\"dataframe\">\n",
       "  <thead>\n",
       "    <tr style=\"text-align: right;\">\n",
       "      <th></th>\n",
       "      <th>Age</th>\n",
       "      <th>Tardies</th>\n",
       "    </tr>\n",
       "  </thead>\n",
       "  <tbody>\n",
       "    <tr>\n",
       "      <th>0</th>\n",
       "      <td>17</td>\n",
       "      <td>10</td>\n",
       "    </tr>\n",
       "    <tr>\n",
       "      <th>1</th>\n",
       "      <td>51</td>\n",
       "      <td>1</td>\n",
       "    </tr>\n",
       "    <tr>\n",
       "      <th>2</th>\n",
       "      <td>27</td>\n",
       "      <td>5</td>\n",
       "    </tr>\n",
       "    <tr>\n",
       "      <th>3</th>\n",
       "      <td>21</td>\n",
       "      <td>9</td>\n",
       "    </tr>\n",
       "    <tr>\n",
       "      <th>4</th>\n",
       "      <td>36</td>\n",
       "      <td>4</td>\n",
       "    </tr>\n",
       "  </tbody>\n",
       "</table>\n",
       "</div>"
      ],
      "text/plain": [
       "   Age  Tardies\n",
       "0   17       10\n",
       "1   51        1\n",
       "2   27        5\n",
       "3   21        9\n",
       "4   36        4"
      ]
     },
     "execution_count": 1,
     "metadata": {},
     "output_type": "execute_result"
    }
   ],
   "source": [
    "from scipy import stats\n",
    "import pandas as pd\n",
    "import numpy as np\n",
    "from matplotlib import pyplot as plt\n",
    "\n",
    "x=[17, 51, 27, 21, 36, 48, 19, 26, 54, 30]\n",
    "y=[10,1,5,9,4,2,9,6,0,3]\n",
    "student_data=pd.DataFrame({'Age': x, 'Tardies': y})\n",
    "student_data.head()"
   ]
  },
  {
   "cell_type": "markdown",
   "metadata": {},
   "source": [
    "Draw a dispersion diagram (scatter plot) for the data."
   ]
  },
  {
   "cell_type": "code",
   "execution_count": 2,
   "metadata": {},
   "outputs": [
    {
     "data": {
      "image/png": "[encoded data removed]",
      "text/plain": [
       "<Figure size 432x288 with 1 Axes>"
      ]
     },
     "metadata": {
      "needs_background": "light"
     },
     "output_type": "display_data"
    }
   ],
   "source": [
    "plt.scatter(x,y)\n",
    "plt.show()"
   ]
  },
  {
   "cell_type": "markdown",
   "metadata": {},
   "source": [
    "Do you see a trend? Can you make any hypotheses about the relationship between age and number of tardies?"
   ]
  },
  {
   "cell_type": "code",
   "execution_count": 3,
   "metadata": {},
   "outputs": [],
   "source": [
    "# Your response here. \n",
    "#The tardies decrease when increasing the age. It looks like there is a negative correlation"
   ]
  },
  {
   "cell_type": "markdown",
   "metadata": {},
   "source": [
    "Calculate the covariance and correlation of the variables in your plot. What is the difference between these two measures? Compare their values. What do they tell you in this case? Add your responses as comments after your code."
   ]
  },
  {
   "cell_type": "code",
   "execution_count": 6,
   "metadata": {},
   "outputs": [
    {
     "name": "stdout",
     "output_type": "stream",
     "text": [
      "-0.9391626886887122\n",
      "-45.56666666666667\n"
     ]
    }
   ],
   "source": [
    "# Your response here.\n",
    "#correlation:\n",
    "cor=np.corrcoef(student_data['Age'],student_data['Tardies'])\n",
    "print(cor[1][0])\n",
    "\n",
    "#covariance:\n",
    "cov=np.cov(student_data['Age'],student_data['Tardies'])\n",
    "print(cov[0][1])\n",
    "\n",
    "#Covariance have units which are very difficult to understand.\n",
    "#If it is positive we can say there positive correlation. If negative there is a negative correlation.\n",
    "#If it is 0 there is no correlation\n",
    "\n",
    "#If the Correlation is close to 1 there is a strong positive correlation\n",
    "#If Correlation is close to -1 there is a strong negative correlation\n",
    "\n",
    "#In this case we have a very strong negative correlation\n",
    "\n",
    "#print(np.cov(stacked)[0][1]/((np.std(student_data[\"Age\"]))*(np.std(student_data[\"Tardies\"]))))\n",
    "#Test to see if it is correct the covariance calculation"
   ]
  },
  {
   "cell_type": "markdown",
   "metadata": {},
   "source": [
    "Build a regression model for this data. What will be your outcome variable? What type of regression are you using? Add your responses as comments after your code."
   ]
  },
  {
   "cell_type": "code",
   "execution_count": 19,
   "metadata": {},
   "outputs": [
    {
     "name": "stdout",
     "output_type": "stream",
     "text": [
      "LinregressResult(slope=-0.24282077091598084, intercept=12.88880336313577, rvalue=-0.9391626886887123, pvalue=5.56665383455336e-05, stderr=0.03139728816158602)\n"
     ]
    }
   ],
   "source": [
    "x=student_data['Age']\n",
    "y=student_data['Tardies']\n",
    "results = stats.linregress(x,y)\n",
    "print(results)\n",
    "#Linear regression. The outputs are the parameters for a the linear equation. Rvalue is the pearson correlation"
   ]
  },
  {
   "cell_type": "markdown",
   "metadata": {},
   "source": [
    "Plot your regression model on your scatter plot."
   ]
  },
  {
   "cell_type": "code",
   "execution_count": 18,
   "metadata": {
    "scrolled": true
   },
   "outputs": [
    {
     "data": {
      "image/png": "[encoded data removed]",
      "text/plain": [
       "<Figure size 432x288 with 1 Axes>"
      ]
     },
     "metadata": {
      "needs_background": "light"
     },
     "output_type": "display_data"
    }
   ],
   "source": [
    "regression_line=results[0] * x + results[1]\n",
    "\n",
    "plt.scatter(x,y)\n",
    "plt.plot(x,regression_line, c=\"lime\")\n",
    "\n",
    "plt.show()"
   ]
  },
  {
   "cell_type": "markdown",
   "metadata": {},
   "source": [
    "Interpret the results of your model. What can conclusions can you draw from your model and how confident in these conclusions are you? Can we say that age is a good predictor of tardiness? Add your responses as comments after your code."
   ]
  },
  {
   "cell_type": "code",
   "execution_count": null,
   "metadata": {},
   "outputs": [],
   "source": [
    "#The model reflects the strong correlation between both variables.\n",
    "#Rvalue = -0.93 is a very strong negative correlation meaning with the increase of the independent variable age\n",
    "#there is a decrease in the Tardies"
   ]
  },
  {
   "cell_type": "markdown",
   "metadata": {},
   "source": [
    "## Challenge 2\n",
    "For the second part of this lab, we will use the vehicles.csv data set. You can find a copy of the dataset in the git hub folder. This dataset includes variables related to vehicle characteristics, including the model, make, and energy efficiency standards, as well as each car's CO2 emissions. As discussed in class the goal of this exercise is to predict vehicles' CO2 emissions based on several independent variables. "
   ]
  },
  {
   "cell_type": "code",
   "execution_count": 27,
   "metadata": {},
   "outputs": [
    {
     "data": {
      "text/html": [
       "<div>\n",
       "<style scoped>\n",
       "    .dataframe tbody tr th:only-of-type {\n",
       "        vertical-align: middle;\n",
       "    }\n",
       "\n",
       "    .dataframe tbody tr th {\n",
       "        vertical-align: top;\n",
       "    }\n",
       "\n",
       "    .dataframe thead th {\n",
       "        text-align: right;\n",
       "    }\n",
       "</style>\n",
       "<table border=\"1\" class=\"dataframe\">\n",
       "  <thead>\n",
       "    <tr style=\"text-align: right;\">\n",
       "      <th></th>\n",
       "      <th>Make</th>\n",
       "      <th>Model</th>\n",
       "      <th>Year</th>\n",
       "      <th>Engine Displacement</th>\n",
       "      <th>Cylinders</th>\n",
       "      <th>Transmission</th>\n",
       "      <th>Drivetrain</th>\n",
       "      <th>Vehicle Class</th>\n",
       "      <th>Fuel Type</th>\n",
       "      <th>Fuel Barrels/Year</th>\n",
       "      <th>City MPG</th>\n",
       "      <th>Highway MPG</th>\n",
       "      <th>Combined MPG</th>\n",
       "      <th>CO2 Emission Grams/Mile</th>\n",
       "      <th>Fuel Cost/Year</th>\n",
       "    </tr>\n",
       "  </thead>\n",
       "  <tbody>\n",
       "    <tr>\n",
       "      <th>0</th>\n",
       "      <td>AM General</td>\n",
       "      <td>DJ Po Vehicle 2WD</td>\n",
       "      <td>1984</td>\n",
       "      <td>2.5</td>\n",
       "      <td>4.0</td>\n",
       "      <td>Automatic 3-spd</td>\n",
       "      <td>2-Wheel Drive</td>\n",
       "      <td>Special Purpose Vehicle 2WD</td>\n",
       "      <td>Regular</td>\n",
       "      <td>19.388824</td>\n",
       "      <td>18</td>\n",
       "      <td>17</td>\n",
       "      <td>17</td>\n",
       "      <td>522.764706</td>\n",
       "      <td>1950</td>\n",
       "    </tr>\n",
       "    <tr>\n",
       "      <th>1</th>\n",
       "      <td>AM General</td>\n",
       "      <td>FJ8c Post Office</td>\n",
       "      <td>1984</td>\n",
       "      <td>4.2</td>\n",
       "      <td>6.0</td>\n",
       "      <td>Automatic 3-spd</td>\n",
       "      <td>2-Wheel Drive</td>\n",
       "      <td>Special Purpose Vehicle 2WD</td>\n",
       "      <td>Regular</td>\n",
       "      <td>25.354615</td>\n",
       "      <td>13</td>\n",
       "      <td>13</td>\n",
       "      <td>13</td>\n",
       "      <td>683.615385</td>\n",
       "      <td>2550</td>\n",
       "    </tr>\n",
       "    <tr>\n",
       "      <th>2</th>\n",
       "      <td>AM General</td>\n",
       "      <td>Post Office DJ5 2WD</td>\n",
       "      <td>1985</td>\n",
       "      <td>2.5</td>\n",
       "      <td>4.0</td>\n",
       "      <td>Automatic 3-spd</td>\n",
       "      <td>Rear-Wheel Drive</td>\n",
       "      <td>Special Purpose Vehicle 2WD</td>\n",
       "      <td>Regular</td>\n",
       "      <td>20.600625</td>\n",
       "      <td>16</td>\n",
       "      <td>17</td>\n",
       "      <td>16</td>\n",
       "      <td>555.437500</td>\n",
       "      <td>2100</td>\n",
       "    </tr>\n",
       "  </tbody>\n",
       "</table>\n",
       "</div>"
      ],
      "text/plain": [
       "         Make                Model  Year  Engine Displacement  Cylinders  \\\n",
       "0  AM General    DJ Po Vehicle 2WD  1984                  2.5        4.0   \n",
       "1  AM General     FJ8c Post Office  1984                  4.2        6.0   \n",
       "2  AM General  Post Office DJ5 2WD  1985                  2.5        4.0   \n",
       "\n",
       "      Transmission        Drivetrain                Vehicle Class Fuel Type  \\\n",
       "0  Automatic 3-spd     2-Wheel Drive  Special Purpose Vehicle 2WD   Regular   \n",
       "1  Automatic 3-spd     2-Wheel Drive  Special Purpose Vehicle 2WD   Regular   \n",
       "2  Automatic 3-spd  Rear-Wheel Drive  Special Purpose Vehicle 2WD   Regular   \n",
       "\n",
       "   Fuel Barrels/Year  City MPG  Highway MPG  Combined MPG  \\\n",
       "0          19.388824        18           17            17   \n",
       "1          25.354615        13           13            13   \n",
       "2          20.600625        16           17            16   \n",
       "\n",
       "   CO2 Emission Grams/Mile  Fuel Cost/Year  \n",
       "0               522.764706            1950  \n",
       "1               683.615385            2550  \n",
       "2               555.437500            2100  "
      ]
     },
     "execution_count": 27,
     "metadata": {},
     "output_type": "execute_result"
    }
   ],
   "source": [
    "# Import any libraries you may need & the data\n",
    "import seaborn as sns\n",
    "data=pd.read_csv(\"vehicles.csv\")\n",
    "data.head(3)"
   ]
  },
  {
   "cell_type": "markdown",
   "metadata": {},
   "source": [
    "Let's use the following variables for our analysis: Year, Cylinders, Fuel Barrels/Year, Combined MPG, and Fuel Cost/Year. We will use 'CO2 Emission Grams/Mile' as our outcome variable. \n",
    "\n",
    "Calculate the correlations between each of these variables and the outcome. Which variable do you think will be the most important in determining CO2 emissions? Which provides the least amount of helpful information for determining CO2 emissions? Add your responses as comments after your code."
   ]
  },
  {
   "cell_type": "code",
   "execution_count": 29,
   "metadata": {},
   "outputs": [
    {
     "data": {
      "text/html": [
       "<style  type=\"text/css\" >\n",
       "    #T_0c38ff52_d035_11ea_a138_4cebbd7b79acrow0_col0 {\n",
       "            background-color:  #008000;\n",
       "            color:  #f1f1f1;\n",
       "        }    #T_0c38ff52_d035_11ea_a138_4cebbd7b79acrow0_col1 {\n",
       "            background-color:  #7cc57c;\n",
       "            color:  #000000;\n",
       "        }    #T_0c38ff52_d035_11ea_a138_4cebbd7b79acrow0_col2 {\n",
       "            background-color:  #93d193;\n",
       "            color:  #000000;\n",
       "        }    #T_0c38ff52_d035_11ea_a138_4cebbd7b79acrow0_col3 {\n",
       "            background-color:  #5eb45e;\n",
       "            color:  #000000;\n",
       "        }    #T_0c38ff52_d035_11ea_a138_4cebbd7b79acrow0_col4 {\n",
       "            background-color:  #86ca86;\n",
       "            color:  #000000;\n",
       "        }    #T_0c38ff52_d035_11ea_a138_4cebbd7b79acrow0_col5 {\n",
       "            background-color:  #92d192;\n",
       "            color:  #000000;\n",
       "        }    #T_0c38ff52_d035_11ea_a138_4cebbd7b79acrow1_col0 {\n",
       "            background-color:  #ade0ad;\n",
       "            color:  #000000;\n",
       "        }    #T_0c38ff52_d035_11ea_a138_4cebbd7b79acrow1_col1 {\n",
       "            background-color:  #008000;\n",
       "            color:  #f1f1f1;\n",
       "        }    #T_0c38ff52_d035_11ea_a138_4cebbd7b79acrow1_col2 {\n",
       "            background-color:  #1f911f;\n",
       "            color:  #000000;\n",
       "        }    #T_0c38ff52_d035_11ea_a138_4cebbd7b79acrow1_col3 {\n",
       "            background-color:  #caf0ca;\n",
       "            color:  #000000;\n",
       "        }    #T_0c38ff52_d035_11ea_a138_4cebbd7b79acrow1_col4 {\n",
       "            background-color:  #1b8f1b;\n",
       "            color:  #000000;\n",
       "        }    #T_0c38ff52_d035_11ea_a138_4cebbd7b79acrow1_col5 {\n",
       "            background-color:  #1d901d;\n",
       "            color:  #000000;\n",
       "        }    #T_0c38ff52_d035_11ea_a138_4cebbd7b79acrow2_col0 {\n",
       "            background-color:  #e5ffe5;\n",
       "            color:  #000000;\n",
       "        }    #T_0c38ff52_d035_11ea_a138_4cebbd7b79acrow2_col1 {\n",
       "            background-color:  #239323;\n",
       "            color:  #000000;\n",
       "        }    #T_0c38ff52_d035_11ea_a138_4cebbd7b79acrow2_col2 {\n",
       "            background-color:  #008000;\n",
       "            color:  #f1f1f1;\n",
       "        }    #T_0c38ff52_d035_11ea_a138_4cebbd7b79acrow2_col3 {\n",
       "            background-color:  #e4fee4;\n",
       "            color:  #000000;\n",
       "        }    #T_0c38ff52_d035_11ea_a138_4cebbd7b79acrow2_col4 {\n",
       "            background-color:  #0a850a;\n",
       "            color:  #f1f1f1;\n",
       "        }    #T_0c38ff52_d035_11ea_a138_4cebbd7b79acrow2_col5 {\n",
       "            background-color:  #018001;\n",
       "            color:  #f1f1f1;\n",
       "        }    #T_0c38ff52_d035_11ea_a138_4cebbd7b79acrow3_col0 {\n",
       "            background-color:  #95d395;\n",
       "            color:  #000000;\n",
       "        }    #T_0c38ff52_d035_11ea_a138_4cebbd7b79acrow3_col1 {\n",
       "            background-color:  #e5ffe5;\n",
       "            color:  #000000;\n",
       "        }    #T_0c38ff52_d035_11ea_a138_4cebbd7b79acrow3_col2 {\n",
       "            background-color:  #e5ffe5;\n",
       "            color:  #000000;\n",
       "        }    #T_0c38ff52_d035_11ea_a138_4cebbd7b79acrow3_col3 {\n",
       "            background-color:  #008000;\n",
       "            color:  #f1f1f1;\n",
       "        }    #T_0c38ff52_d035_11ea_a138_4cebbd7b79acrow3_col4 {\n",
       "            background-color:  #e5ffe5;\n",
       "            color:  #000000;\n",
       "        }    #T_0c38ff52_d035_11ea_a138_4cebbd7b79acrow3_col5 {\n",
       "            background-color:  #e5ffe5;\n",
       "            color:  #000000;\n",
       "        }    #T_0c38ff52_d035_11ea_a138_4cebbd7b79acrow4_col0 {\n",
       "            background-color:  #cdf2cd;\n",
       "            color:  #000000;\n",
       "        }    #T_0c38ff52_d035_11ea_a138_4cebbd7b79acrow4_col1 {\n",
       "            background-color:  #1e901e;\n",
       "            color:  #000000;\n",
       "        }    #T_0c38ff52_d035_11ea_a138_4cebbd7b79acrow4_col2 {\n",
       "            background-color:  #0a850a;\n",
       "            color:  #f1f1f1;\n",
       "        }    #T_0c38ff52_d035_11ea_a138_4cebbd7b79acrow4_col3 {\n",
       "            background-color:  #e0fce0;\n",
       "            color:  #000000;\n",
       "        }    #T_0c38ff52_d035_11ea_a138_4cebbd7b79acrow4_col4 {\n",
       "            background-color:  #008000;\n",
       "            color:  #f1f1f1;\n",
       "        }    #T_0c38ff52_d035_11ea_a138_4cebbd7b79acrow4_col5 {\n",
       "            background-color:  #088408;\n",
       "            color:  #f1f1f1;\n",
       "        }    #T_0c38ff52_d035_11ea_a138_4cebbd7b79acrow5_col0 {\n",
       "            background-color:  #e5ffe5;\n",
       "            color:  #000000;\n",
       "        }    #T_0c38ff52_d035_11ea_a138_4cebbd7b79acrow5_col1 {\n",
       "            background-color:  #219221;\n",
       "            color:  #000000;\n",
       "        }    #T_0c38ff52_d035_11ea_a138_4cebbd7b79acrow5_col2 {\n",
       "            background-color:  #018001;\n",
       "            color:  #f1f1f1;\n",
       "        }    #T_0c38ff52_d035_11ea_a138_4cebbd7b79acrow5_col3 {\n",
       "            background-color:  #e5ffe5;\n",
       "            color:  #000000;\n",
       "        }    #T_0c38ff52_d035_11ea_a138_4cebbd7b79acrow5_col4 {\n",
       "            background-color:  #088408;\n",
       "            color:  #f1f1f1;\n",
       "        }    #T_0c38ff52_d035_11ea_a138_4cebbd7b79acrow5_col5 {\n",
       "            background-color:  #008000;\n",
       "            color:  #f1f1f1;\n",
       "        }</style><table id=\"T_0c38ff52_d035_11ea_a138_4cebbd7b79ac\" ><thead>    <tr>        <th class=\"blank level0\" ></th>        <th class=\"col_heading level0 col0\" >Year</th>        <th class=\"col_heading level0 col1\" >Cylinders</th>        <th class=\"col_heading level0 col2\" >Fuel Barrels/Year</th>        <th class=\"col_heading level0 col3\" >Combined MPG</th>        <th class=\"col_heading level0 col4\" >Fuel Cost/Year</th>        <th class=\"col_heading level0 col5\" >CO2 Emission Grams/Mile</th>    </tr></thead><tbody>\n",
       "                <tr>\n",
       "                        <th id=\"T_0c38ff52_d035_11ea_a138_4cebbd7b79aclevel0_row0\" class=\"row_heading level0 row0\" >Year</th>\n",
       "                        <td id=\"T_0c38ff52_d035_11ea_a138_4cebbd7b79acrow0_col0\" class=\"data row0 col0\" >1.000000</td>\n",
       "                        <td id=\"T_0c38ff52_d035_11ea_a138_4cebbd7b79acrow0_col1\" class=\"data row0 col1\" >0.082469</td>\n",
       "                        <td id=\"T_0c38ff52_d035_11ea_a138_4cebbd7b79acrow0_col2\" class=\"data row0 col2\" >-0.221084</td>\n",
       "                        <td id=\"T_0c38ff52_d035_11ea_a138_4cebbd7b79acrow0_col3\" class=\"data row0 col3\" >0.204751</td>\n",
       "                        <td id=\"T_0c38ff52_d035_11ea_a138_4cebbd7b79acrow0_col4\" class=\"data row0 col4\" >-0.091913</td>\n",
       "                        <td id=\"T_0c38ff52_d035_11ea_a138_4cebbd7b79acrow0_col5\" class=\"data row0 col5\" >-0.222300</td>\n",
       "            </tr>\n",
       "            <tr>\n",
       "                        <th id=\"T_0c38ff52_d035_11ea_a138_4cebbd7b79aclevel0_row1\" class=\"row_heading level0 row1\" >Cylinders</th>\n",
       "                        <td id=\"T_0c38ff52_d035_11ea_a138_4cebbd7b79acrow1_col0\" class=\"data row1 col0\" >0.082469</td>\n",
       "                        <td id=\"T_0c38ff52_d035_11ea_a138_4cebbd7b79acrow1_col1\" class=\"data row1 col1\" >1.000000</td>\n",
       "                        <td id=\"T_0c38ff52_d035_11ea_a138_4cebbd7b79acrow1_col2\" class=\"data row1 col2\" >0.739517</td>\n",
       "                        <td id=\"T_0c38ff52_d035_11ea_a138_4cebbd7b79acrow1_col3\" class=\"data row1 col3\" >-0.698648</td>\n",
       "                        <td id=\"T_0c38ff52_d035_11ea_a138_4cebbd7b79acrow1_col4\" class=\"data row1 col4\" >0.778153</td>\n",
       "                        <td id=\"T_0c38ff52_d035_11ea_a138_4cebbd7b79acrow1_col5\" class=\"data row1 col5\" >0.752393</td>\n",
       "            </tr>\n",
       "            <tr>\n",
       "                        <th id=\"T_0c38ff52_d035_11ea_a138_4cebbd7b79aclevel0_row2\" class=\"row_heading level0 row2\" >Fuel Barrels/Year</th>\n",
       "                        <td id=\"T_0c38ff52_d035_11ea_a138_4cebbd7b79acrow2_col0\" class=\"data row2 col0\" >-0.221084</td>\n",
       "                        <td id=\"T_0c38ff52_d035_11ea_a138_4cebbd7b79acrow2_col1\" class=\"data row2 col1\" >0.739517</td>\n",
       "                        <td id=\"T_0c38ff52_d035_11ea_a138_4cebbd7b79acrow2_col2\" class=\"data row2 col2\" >1.000000</td>\n",
       "                        <td id=\"T_0c38ff52_d035_11ea_a138_4cebbd7b79acrow2_col3\" class=\"data row2 col3\" >-0.909743</td>\n",
       "                        <td id=\"T_0c38ff52_d035_11ea_a138_4cebbd7b79acrow2_col4\" class=\"data row2 col4\" >0.916208</td>\n",
       "                        <td id=\"T_0c38ff52_d035_11ea_a138_4cebbd7b79acrow2_col5\" class=\"data row2 col5\" >0.986189</td>\n",
       "            </tr>\n",
       "            <tr>\n",
       "                        <th id=\"T_0c38ff52_d035_11ea_a138_4cebbd7b79aclevel0_row3\" class=\"row_heading level0 row3\" >Combined MPG</th>\n",
       "                        <td id=\"T_0c38ff52_d035_11ea_a138_4cebbd7b79acrow3_col0\" class=\"data row3 col0\" >0.204751</td>\n",
       "                        <td id=\"T_0c38ff52_d035_11ea_a138_4cebbd7b79acrow3_col1\" class=\"data row3 col1\" >-0.698648</td>\n",
       "                        <td id=\"T_0c38ff52_d035_11ea_a138_4cebbd7b79acrow3_col2\" class=\"data row3 col2\" >-0.909743</td>\n",
       "                        <td id=\"T_0c38ff52_d035_11ea_a138_4cebbd7b79acrow3_col3\" class=\"data row3 col3\" >1.000000</td>\n",
       "                        <td id=\"T_0c38ff52_d035_11ea_a138_4cebbd7b79acrow3_col4\" class=\"data row3 col4\" >-0.875185</td>\n",
       "                        <td id=\"T_0c38ff52_d035_11ea_a138_4cebbd7b79acrow3_col5\" class=\"data row3 col5\" >-0.926229</td>\n",
       "            </tr>\n",
       "            <tr>\n",
       "                        <th id=\"T_0c38ff52_d035_11ea_a138_4cebbd7b79aclevel0_row4\" class=\"row_heading level0 row4\" >Fuel Cost/Year</th>\n",
       "                        <td id=\"T_0c38ff52_d035_11ea_a138_4cebbd7b79acrow4_col0\" class=\"data row4 col0\" >-0.091913</td>\n",
       "                        <td id=\"T_0c38ff52_d035_11ea_a138_4cebbd7b79acrow4_col1\" class=\"data row4 col1\" >0.778153</td>\n",
       "                        <td id=\"T_0c38ff52_d035_11ea_a138_4cebbd7b79acrow4_col2\" class=\"data row4 col2\" >0.916208</td>\n",
       "                        <td id=\"T_0c38ff52_d035_11ea_a138_4cebbd7b79acrow4_col3\" class=\"data row4 col3\" >-0.875185</td>\n",
       "                        <td id=\"T_0c38ff52_d035_11ea_a138_4cebbd7b79acrow4_col4\" class=\"data row4 col4\" >1.000000</td>\n",
       "                        <td id=\"T_0c38ff52_d035_11ea_a138_4cebbd7b79acrow4_col5\" class=\"data row4 col5\" >0.930865</td>\n",
       "            </tr>\n",
       "            <tr>\n",
       "                        <th id=\"T_0c38ff52_d035_11ea_a138_4cebbd7b79aclevel0_row5\" class=\"row_heading level0 row5\" >CO2 Emission Grams/Mile</th>\n",
       "                        <td id=\"T_0c38ff52_d035_11ea_a138_4cebbd7b79acrow5_col0\" class=\"data row5 col0\" >-0.222300</td>\n",
       "                        <td id=\"T_0c38ff52_d035_11ea_a138_4cebbd7b79acrow5_col1\" class=\"data row5 col1\" >0.752393</td>\n",
       "                        <td id=\"T_0c38ff52_d035_11ea_a138_4cebbd7b79acrow5_col2\" class=\"data row5 col2\" >0.986189</td>\n",
       "                        <td id=\"T_0c38ff52_d035_11ea_a138_4cebbd7b79acrow5_col3\" class=\"data row5 col3\" >-0.926229</td>\n",
       "                        <td id=\"T_0c38ff52_d035_11ea_a138_4cebbd7b79acrow5_col4\" class=\"data row5 col4\" >0.930865</td>\n",
       "                        <td id=\"T_0c38ff52_d035_11ea_a138_4cebbd7b79acrow5_col5\" class=\"data row5 col5\" >1.000000</td>\n",
       "            </tr>\n",
       "    </tbody></table>"
      ],
      "text/plain": [
       "<pandas.io.formats.style.Styler at 0x1fb90efeb88>"
      ]
     },
     "execution_count": 29,
     "metadata": {},
     "output_type": "execute_result"
    }
   ],
   "source": [
    "data[[\"Year\",\"Cylinders\",\"Fuel Barrels/Year\",\"Combined MPG\",\"Fuel Cost/Year\",\"CO2 Emission Grams/Mile\"]].corr().style.background_gradient(cmap=sns.light_palette(\"green\", as_cmap=True))\n",
    "#The year provides the least information for determing the CO2 emissions\n",
    "#The variable most important to determine CO2 emissions is the Fuels Barrels/Year"
   ]
  },
  {
   "cell_type": "markdown",
   "metadata": {},
   "source": [
    "Build a regression model for this data. What type of regression are you using? Add your responses as comments after your code."
   ]
  },
  {
   "cell_type": "code",
   "execution_count": 64,
   "metadata": {},
   "outputs": [
    {
     "data": {
      "text/html": [
       "<table class=\"simpletable\">\n",
       "<caption>OLS Regression Results</caption>\n",
       "<tr>\n",
       "  <th>Dep. Variable:</th>    <td>CO2 Emission Grams/Mile</td> <th>  R-squared (uncentered):</th>       <td>   0.999</td>  \n",
       "</tr>\n",
       "<tr>\n",
       "  <th>Model:</th>                      <td>OLS</td>           <th>  Adj. R-squared (uncentered):</th>  <td>   0.999</td>  \n",
       "</tr>\n",
       "<tr>\n",
       "  <th>Method:</th>                <td>Least Squares</td>      <th>  F-statistic:       </th>           <td>8.760e+06</td> \n",
       "</tr>\n",
       "<tr>\n",
       "  <th>Date:</th>                <td>Mon, 27 Jul 2020</td>     <th>  Prob (F-statistic):</th>            <td>  0.00</td>   \n",
       "</tr>\n",
       "<tr>\n",
       "  <th>Time:</th>                    <td>20:00:35</td>         <th>  Log-Likelihood:    </th>          <td>-1.5515e+05</td>\n",
       "</tr>\n",
       "<tr>\n",
       "  <th>No. Observations:</th>         <td> 35952</td>          <th>  AIC:               </th>           <td>3.103e+05</td> \n",
       "</tr>\n",
       "<tr>\n",
       "  <th>Df Residuals:</th>             <td> 35949</td>          <th>  BIC:               </th>           <td>3.103e+05</td> \n",
       "</tr>\n",
       "<tr>\n",
       "  <th>Df Model:</th>                 <td>     3</td>          <th>                     </th>               <td> </td>     \n",
       "</tr>\n",
       "<tr>\n",
       "  <th>Covariance Type:</th>         <td>nonrobust</td>        <th>                     </th>               <td> </td>     \n",
       "</tr>\n",
       "</table>\n",
       "<table class=\"simpletable\">\n",
       "<tr>\n",
       "          <td></td>             <th>coef</th>     <th>std err</th>      <th>t</th>      <th>P>|t|</th>  <th>[0.025</th>    <th>0.975]</th>  \n",
       "</tr>\n",
       "<tr>\n",
       "  <th>Fuel Barrels/Year</th> <td>   22.4724</td> <td>    0.051</td> <td>  437.446</td> <td> 0.000</td> <td>   22.372</td> <td>   22.573</td>\n",
       "</tr>\n",
       "<tr>\n",
       "  <th>Combined MPG</th>      <td>    0.1052</td> <td>    0.010</td> <td>   10.622</td> <td> 0.000</td> <td>    0.086</td> <td>    0.125</td>\n",
       "</tr>\n",
       "<tr>\n",
       "  <th>Fuel Cost/Year</th>    <td>    0.0408</td> <td>    0.000</td> <td>   86.909</td> <td> 0.000</td> <td>    0.040</td> <td>    0.042</td>\n",
       "</tr>\n",
       "</table>\n",
       "<table class=\"simpletable\">\n",
       "<tr>\n",
       "  <th>Omnibus:</th>       <td>79210.856</td> <th>  Durbin-Watson:     </th>   <td>   0.819</td>   \n",
       "</tr>\n",
       "<tr>\n",
       "  <th>Prob(Omnibus):</th>  <td> 0.000</td>   <th>  Jarque-Bera (JB):  </th> <td>470089111.722</td>\n",
       "</tr>\n",
       "<tr>\n",
       "  <th>Skew:</th>           <td>20.397</td>   <th>  Prob(JB):          </th>   <td>    0.00</td>   \n",
       "</tr>\n",
       "<tr>\n",
       "  <th>Kurtosis:</th>       <td>561.701</td>  <th>  Cond. No.          </th>   <td>1.05e+03</td>   \n",
       "</tr>\n",
       "</table><br/><br/>Warnings:<br/>[1] Standard Errors assume that the covariance matrix of the errors is correctly specified.<br/>[2] The condition number is large, 1.05e+03. This might indicate that there are<br/>strong multicollinearity or other numerical problems."
      ],
      "text/plain": [
       "<class 'statsmodels.iolib.summary.Summary'>\n",
       "\"\"\"\n",
       "                                   OLS Regression Results                                   \n",
       "============================================================================================\n",
       "Dep. Variable:     CO2 Emission Grams/Mile   R-squared (uncentered):                   0.999\n",
       "Model:                                 OLS   Adj. R-squared (uncentered):              0.999\n",
       "Method:                      Least Squares   F-statistic:                          8.760e+06\n",
       "Date:                     Mon, 27 Jul 2020   Prob (F-statistic):                        0.00\n",
       "Time:                             20:00:35   Log-Likelihood:                     -1.5515e+05\n",
       "No. Observations:                    35952   AIC:                                  3.103e+05\n",
       "Df Residuals:                        35949   BIC:                                  3.103e+05\n",
       "Df Model:                                3                                                  \n",
       "Covariance Type:                 nonrobust                                                  \n",
       "=====================================================================================\n",
       "                        coef    std err          t      P>|t|      [0.025      0.975]\n",
       "-------------------------------------------------------------------------------------\n",
       "Fuel Barrels/Year    22.4724      0.051    437.446      0.000      22.372      22.573\n",
       "Combined MPG          0.1052      0.010     10.622      0.000       0.086       0.125\n",
       "Fuel Cost/Year        0.0408      0.000     86.909      0.000       0.040       0.042\n",
       "==============================================================================\n",
       "Omnibus:                    79210.856   Durbin-Watson:                   0.819\n",
       "Prob(Omnibus):                  0.000   Jarque-Bera (JB):        470089111.722\n",
       "Skew:                          20.397   Prob(JB):                         0.00\n",
       "Kurtosis:                     561.701   Cond. No.                     1.05e+03\n",
       "==============================================================================\n",
       "\n",
       "Warnings:\n",
       "[1] Standard Errors assume that the covariance matrix of the errors is correctly specified.\n",
       "[2] The condition number is large, 1.05e+03. This might indicate that there are\n",
       "strong multicollinearity or other numerical problems.\n",
       "\"\"\""
      ]
     },
     "execution_count": 64,
     "metadata": {},
     "output_type": "execute_result"
    }
   ],
   "source": [
    "import statsmodels.api as sm\n",
    "x=data[['Fuel Barrels/Year','Combined MPG', 'Fuel Cost/Year']]\n",
    "y=data[\"CO2 Emission Grams/Mile\"]\n",
    "\n",
    "model = sm.OLS(y,x).fit()\n",
    "\n",
    "#Least Squares method for the regression"
   ]
  },
  {
   "cell_type": "markdown",
   "metadata": {},
   "source": [
    "Print your regression summary, and interpret the results. What are the most important varibles in your model and why? What can conclusions can you draw from your model and how confident in these conclusions are you? Add your responses as comments after your code."
   ]
  },
  {
   "cell_type": "code",
   "execution_count": 66,
   "metadata": {},
   "outputs": [
    {
     "name": "stdout",
     "output_type": "stream",
     "text": [
      "                                   OLS Regression Results                                   \n",
      "============================================================================================\n",
      "Dep. Variable:     CO2 Emission Grams/Mile   R-squared (uncentered):                   0.999\n",
      "Model:                                 OLS   Adj. R-squared (uncentered):              0.999\n",
      "Method:                      Least Squares   F-statistic:                          8.760e+06\n",
      "Date:                     Mon, 27 Jul 2020   Prob (F-statistic):                        0.00\n",
      "Time:                             20:04:09   Log-Likelihood:                     -1.5515e+05\n",
      "No. Observations:                    35952   AIC:                                  3.103e+05\n",
      "Df Residuals:                        35949   BIC:                                  3.103e+05\n",
      "Df Model:                                3                                                  \n",
      "Covariance Type:                 nonrobust                                                  \n",
      "=====================================================================================\n",
      "                        coef    std err          t      P>|t|      [0.025      0.975]\n",
      "-------------------------------------------------------------------------------------\n",
      "Fuel Barrels/Year    22.4724      0.051    437.446      0.000      22.372      22.573\n",
      "Combined MPG          0.1052      0.010     10.622      0.000       0.086       0.125\n",
      "Fuel Cost/Year        0.0408      0.000     86.909      0.000       0.040       0.042\n",
      "==============================================================================\n",
      "Omnibus:                    79210.856   Durbin-Watson:                   0.819\n",
      "Prob(Omnibus):                  0.000   Jarque-Bera (JB):        470089111.722\n",
      "Skew:                          20.397   Prob(JB):                         0.00\n",
      "Kurtosis:                     561.701   Cond. No.                     1.05e+03\n",
      "==============================================================================\n",
      "\n",
      "Warnings:\n",
      "[1] Standard Errors assume that the covariance matrix of the errors is correctly specified.\n",
      "[2] The condition number is large, 1.05e+03. This might indicate that there are\n",
      "strong multicollinearity or other numerical problems.\n"
     ]
    }
   ],
   "source": [
    "print(model.summary())\n",
    "\n",
    "#R-squared os the most important parameter. Being close to 1 means that the model is very good."
   ]
  },
  {
   "cell_type": "markdown",
   "metadata": {},
   "source": [
    "I am suspicious about the last few parties I have thrown: it seems that the more people I invite the more people are unable to attend. To know if my hunch is supported by data, I have decided to do an analysis. I have collected my data in the table below, where X is the number of people I invited, and Y is the number of people who attended. \n",
    "\n",
    "|  X |  Y |\n",
    "|----|----|\n",
    "| 1  |  1 |\n",
    "| 3  |  2 |\n",
    "| 4  |  4 |\n",
    "| 6  |  4 |\n",
    "| 8  |  5 |\n",
    "| 9  |  7 |\n",
    "| 11 |  8 |\n",
    "| 14 |  13 |"
   ]
  },
  {
   "cell_type": "markdown",
   "metadata": {},
   "source": [
    "We want to know if the relationship modeled by the two random variables is linear or not, and therefore if it is appropriate to model it with a linear regression. \n",
    "First, build a dataframe with the data. "
   ]
  },
  {
   "cell_type": "code",
   "execution_count": 87,
   "metadata": {},
   "outputs": [
    {
     "data": {
      "text/plain": [
       "0.9652303546573691"
      ]
     },
     "execution_count": 87,
     "metadata": {},
     "output_type": "execute_result"
    }
   ],
   "source": [
    "data = pd.DataFrame({'x': [1,3,4,6,8,9,11,14,], 'y': [1,2,4,4,5,7,8,13]})\n",
    "data.head()\n",
    "np.corrcoef(data[\"x\"],data[\"y\"])[1][0]\n",
    "#np.correcoef calculates a linear regression\n",
    "#0.96 means it has a high positive correlation"
   ]
  },
  {
   "cell_type": "markdown",
   "metadata": {},
   "source": [
    "Draw a dispersion diagram (scatter plot) for the data, and fit a regression line."
   ]
  },
  {
   "cell_type": "code",
   "execution_count": 82,
   "metadata": {},
   "outputs": [
    {
     "data": {
      "image/png": "[encoded data removed]",
      "text/plain": [
       "<Figure size 432x288 with 1 Axes>"
      ]
     },
     "metadata": {
      "needs_background": "light"
     },
     "output_type": "display_data"
    }
   ],
   "source": [
    "plt.scatter(data[\"x\"],data[\"y\"])\n",
    "\n",
    "regression=stats.linregress(data[\"x\"],data[\"y\"])\n",
    "\n",
    "y=regression[0]*data[\"x\"]+regression[1]\n",
    "\n",
    "plt.plot(data[\"x\"],y,c=\"r\")\n",
    "plt.show()"
   ]
  },
  {
   "cell_type": "markdown",
   "metadata": {},
   "source": [
    "What do you see? What does this plot tell you about the likely relationship between the variables? Print the results from your regression."
   ]
  },
  {
   "cell_type": "code",
   "execution_count": 89,
   "metadata": {},
   "outputs": [
    {
     "name": "stdout",
     "output_type": "stream",
     "text": [
      "LinregressResult(slope=0.8484848484848485, intercept=-0.43939393939393945, rvalue=0.9652303546573691, pvalue=0.00010236374464090686, stderr=0.09380896778286217)\n"
     ]
    }
   ],
   "source": [
    "#The positive correlation is confirmed with this plot.\n",
    "print(regression)"
   ]
  },
  {
   "cell_type": "markdown",
   "metadata": {},
   "source": [
    "Do you see any problematic points, or outliers, in your data? Remove these points and recalculate your regression. Print the new dispersion diagram with your new model and the results of your model. "
   ]
  },
  {
   "cell_type": "code",
   "execution_count": 95,
   "metadata": {},
   "outputs": [
    {
     "name": "stdout",
     "output_type": "stream",
     "text": [
      "0.9712781168250858\n"
     ]
    },
    {
     "data": {
      "image/png": "[encoded data removed]",
      "text/plain": [
       "<Figure size 432x288 with 1 Axes>"
      ]
     },
     "metadata": {
      "needs_background": "light"
     },
     "output_type": "display_data"
    }
   ],
   "source": [
    "#(x,y)=(14,13) looks like and outlier\n",
    "\n",
    "data2=data[data.columns][:-1]\n",
    "print(np.corrcoef(data2[\"x\"],data2[\"y\"])[1][0])\n",
    "\n",
    "plt.scatter(data2[\"x\"],data2[\"y\"])\n",
    "\n",
    "regression=stats.linregress(data2[\"x\"],data2[\"y\"])\n",
    "\n",
    "y=regression[0]*data2[\"x\"]+regression[1]\n",
    "\n",
    "plt.plot(data2[\"x\"],y,c=\"r\")\n",
    "plt.show()"
   ]
  },
  {
   "cell_type": "markdown",
   "metadata": {},
   "source": [
    "What changed? Based on the results of the two models and your graphs, what can you say about the form of the data with the problematic point and without it?"
   ]
  },
  {
   "cell_type": "code",
   "execution_count": 96,
   "metadata": {},
   "outputs": [
    {
     "data": {
      "text/plain": [
       "LinregressResult(slope=0.6842105263157895, intercept=0.32330827067669166, rvalue=0.971278116825086, pvalue=0.0002644056885656864, stderr=0.07496206665031294)"
      ]
     },
     "execution_count": 96,
     "metadata": {},
     "output_type": "execute_result"
    }
   ],
   "source": [
    "print(regression)\n",
    "#It improves the r value so the regression line is better modelling the data"
   ]
  }
 ],
 "metadata": {
  "kernelspec": {
   "display_name": "Python 3",
   "language": "python",
   "name": "python3"
  },
  "language_info": {
   "codemirror_mode": {
    "name": "ipython",
    "version": 3
   },
   "file_extension": ".py",
   "mimetype": "text/x-python",
   "name": "python",
   "nbconvert_exporter": "python",
   "pygments_lexer": "ipython3",
   "version": "3.7.6"
  }
 },
 "nbformat": 4,
 "nbformat_minor": 2
}
